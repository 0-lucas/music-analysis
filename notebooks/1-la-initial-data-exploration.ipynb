{
 "cells": [
  {
   "cell_type": "code",
   "metadata": {
    "ExecuteTime": {
     "end_time": "2024-08-06T00:23:47.346173Z",
     "start_time": "2024-08-06T00:23:47.341124Z"
    }
   },
   "source": [
    "import os\n",
    "\n",
    "import seaborn as sns\n",
    "import matplotlib.pyplot as plt\n",
    "import statsmodels.api as sm\n",
    "\n",
    "from music_analysis import get_music_time_series, plot_periodogram, read_csv_properly, test_augmented_df\n",
    "\n",
    "sns.set_palette(\"viridis\")"
   ],
   "execution_count": 27,
   "outputs": []
  },
  {
   "cell_type": "markdown",
   "metadata": {},
   "source": [
    "The DataFrame is a historical record of songs I played since Oct/2020. Every song played in either Spotify, Youtube or SoundCloud is recorded in Last.fm using an API in these players. I do this mainly just because I just really like music and to check out what I heard recently."
   ]
  },
  {
   "cell_type": "code",
   "metadata": {
    "ExecuteTime": {
     "end_time": "2024-08-06T00:23:47.783524Z",
     "start_time": "2024-08-06T00:23:47.388494Z"
    }
   },
   "source": [
    "music = read_csv_properly(os.path.dirname(os.getcwd()) + \"/data/scrobbles.csv\")\n",
    "music"
   ],
   "execution_count": 28,
   "outputs": []
  },
  {
   "cell_type": "markdown",
   "metadata": {},
   "source": [
    "Time series are one of the most common methods of collecting and grouping data. Some data are naturally a time series, because of the context in which is generated / collected. For example, stock market data is measured based on the time. Think of time series as any value measured for a time axis.\n",
    "\n",
    "I converted the DataFrame to a time series using the `get_music_time_series` function in `utils.py`, if you want to take a look at it.\n",
    "\n",
    "Either way, let's analyze and explore the dataset, starting with basic line plots and histograms, so that we can have a first impression of how the data behaves and is distributed."
   ]
  },
  {
   "cell_type": "code",
   "metadata": {
    "ExecuteTime": {
     "end_time": "2024-08-06T00:23:48.980945Z",
     "start_time": "2024-08-06T00:23:47.785241Z"
    }
   },
   "source": [
    "music_series = get_music_time_series(music, \"W\")\n",
    "\n",
    "figure, axis = plt.subplots(\n",
    "\tnrows=music_series.shape[1], sharex=True, sharey=True, figsize=(8, 8)\n",
    ")\n",
    "\n",
    "for index, column in enumerate(music_series.columns):\n",
    "\tsns.lineplot(data=music_series[column], ax=axis[index])\n",
    "\taxis[index].title.set_text(column)"
   ],
   "execution_count": 29,
   "outputs": []
  },
  {
   "cell_type": "code",
   "metadata": {
    "ExecuteTime": {
     "end_time": "2024-08-06T00:23:49.669968Z",
     "start_time": "2024-08-06T00:23:48.983154Z"
    }
   },
   "source": [
    "figure, axis = plt.subplots(\n",
    "\tnrows=music_series.shape[1], sharey=True, figsize=(10, 10)\n",
    ")\n",
    "\n",
    "for index, column in enumerate(music_series.columns):\n",
    "\tsns.histplot(data=music_series[column], ax=axis[index]).set_xlabel(None)\n",
    "\taxis[index].title.set_text(column)"
   ],
   "execution_count": 30,
   "outputs": []
  },
  {
   "cell_type": "markdown",
   "metadata": {},
   "source": [
    "Just from taking a look to these plots, one can assume:\n",
    "\n",
    "\t- The`track` column has the higher variation. This can be valuable for prediction power. It's also skewed due to outliers.\n",
    "\n",
    "\t- The `track` column is definitely not stationary.\n",
    "   \n",
    "\t- The `artist` and `album` column values seems very similar to each other.\n",
    "\n",
    "Let's step up a notch and apply some time series specific methods like lag plots and periodograms to our wanted prediction, the `track` column.\n",
    "\n",
    "Let's also define some characteristics. **The idea is to predict how many songs will be played four weeks into the future.**\n"
   ]
  },
  {
   "cell_type": "code",
   "metadata": {
    "ExecuteTime": {
     "end_time": "2024-08-06T00:23:50.898893Z",
     "start_time": "2024-08-06T00:23:49.674796Z"
    }
   },
   "source": [
    "figure, axis = plt.subplots(\n",
    "\t2,2, figsize=(10, 10), sharex=True, sharey=True\n",
    ")\n",
    "\n",
    "for lag, ax in enumerate(axis.flatten()):\n",
    "\tsns.regplot(y=music_series[\"track\"].shift(lag + 1), x=music_series[\"track\"], ax=ax)\n",
    "\tax.set_ylabel(f\"track + {lag + 1}\")\n",
    "plt.suptitle(\"Lag plots from 1-4 weeks\", fontsize=24);"
   ],
   "execution_count": 31,
   "outputs": []
  },
  {
   "cell_type": "code",
   "metadata": {
    "ExecuteTime": {
     "end_time": "2024-08-06T00:23:51.305158Z",
     "start_time": "2024-08-06T00:23:50.902568Z"
    }
   },
   "source": [
    "plot_periodogram(music_series[\"track\"]);"
   ],
   "execution_count": 32,
   "outputs": []
  },
  {
   "cell_type": "markdown",
   "metadata": {},
   "source": [
    "Now, we can assume some other information before modelling.\n",
    "\n",
    "\t- Lagging didn't return a valuable way of predicting. Confident predictions are pratically impossible with only lag methods.\n",
    "  \n",
    "\t- However, applying fourier and retrieving the variation from some time periods shows that there's a lot of variation in annual and monthly periods. We can use this in modelling.\n",
    "\n",
    "For our final step in analyzing, let's use statsmodels' tsa module.\n",
    "It shows each component of a time series: trend, seasonality and cyclic/ residuals"
   ]
  },
  {
   "cell_type": "code",
   "metadata": {
    "ExecuteTime": {
     "end_time": "2024-08-06T00:23:52.856994Z",
     "start_time": "2024-08-06T00:23:51.306152Z"
    }
   },
   "source": [
    "sm.tsa.seasonal_decompose(music_series[\"track\"], model=\"additive\").plot();"
   ],
   "execution_count": 33,
   "outputs": []
  },
  {
   "cell_type": "markdown",
   "metadata": {},
   "source": [
    "I think it's pretty clear that the data has a downward trend. But let's apply an Adfuller test because it's cool.\n",
    "\n",
    "The Adfuller test is a hypothesis test that assummes Ho as non-stationary data, and H1 as stationary. It applies an autoregressive model, like the lag plots in the EDA. It then tests that the alpha coefficient of the model if equal to 1. Crazy things in the background!!!"
   ]
  },
  {
   "cell_type": "code",
   "metadata": {
    "ExecuteTime": {
     "end_time": "2024-08-06T00:23:52.864155Z",
     "start_time": "2024-08-06T00:23:52.859095Z"
    }
   },
   "source": [
    "test_augmented_df(music_series[\"track\"])"
   ],
   "execution_count": 34,
   "outputs": []
  },
  {
   "cell_type": "markdown",
   "metadata": {},
   "source": [
    "Our p-value is > 0.05. We can't reject the null hypothesis. Therefore, our series is statistically non-stationary for 4 lags (which is the period used in inference).\n",
    "Having that in mind, we can start modelling!"
   ]
  }
 ],
 "metadata": {
  "kernelspec": {
   "display_name": "Python 3 (ipykernel)",
   "language": "python",
   "name": "python3"
  },
  "language_info": {
   "codemirror_mode": {
    "name": "ipython",
    "version": 3
   },
   "file_extension": ".py",
   "mimetype": "text/x-python",
   "name": "python",
   "nbconvert_exporter": "python",
   "pygments_lexer": "ipython3",
   "version": "3.12.2"
  }
 },
 "nbformat": 4,
 "nbformat_minor": 4
}
